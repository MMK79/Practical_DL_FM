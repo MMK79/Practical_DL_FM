{
 "cells": [
  {
   "cell_type": "code",
   "execution_count": 192,
   "id": "c840ee66",
   "metadata": {},
   "outputs": [],
   "source": [
    "import tensorflow as tf\n",
    "from tensorflow import keras\n",
    "from tensorflow.keras import layers\n",
    "import numpy as np\n",
    "import tensorflow_datasets as tfds\n",
    "import matplotlib.pyplot as plt\n",
    "import io"
   ]
  },
  {
   "cell_type": "code",
   "execution_count": 193,
   "id": "c7097af4",
   "metadata": {},
   "outputs": [],
   "source": [
    "tfds.disable_progress_bar()\n",
    "# help(tfds.disable_progress_bar)"
   ]
  },
  {
   "cell_type": "code",
   "execution_count": 194,
   "id": "9ce7a9b7",
   "metadata": {},
   "outputs": [
    {
     "name": "stdout",
     "output_type": "stream",
     "text": [
      "2.19.0\n",
      "3.10.0\n"
     ]
    }
   ],
   "source": [
    "print(tf.__version__)\n",
    "print(keras.__version__)"
   ]
  },
  {
   "cell_type": "code",
   "execution_count": 195,
   "id": "a4271543",
   "metadata": {},
   "outputs": [],
   "source": [
    "embedding_layer = layers.Embedding(1000, 5)\n",
    "# help(layers.Embedding)"
   ]
  },
  {
   "cell_type": "code",
   "execution_count": 196,
   "id": "e1e00d0e",
   "metadata": {},
   "outputs": [
    {
     "data": {
      "text/plain": [
       "TensorShape([3, 5])"
      ]
     },
     "execution_count": 196,
     "metadata": {},
     "output_type": "execute_result"
    }
   ],
   "source": [
    "result = embedding_layer(tf.constant([1, 2, 3]))\n",
    "result.numpy()\n",
    "result.shape"
   ]
  },
  {
   "cell_type": "code",
   "execution_count": 197,
   "id": "f20ed170",
   "metadata": {},
   "outputs": [
    {
     "name": "stdout",
     "output_type": "stream",
     "text": [
      "{0: [0, 1, 2], 1: [0, 1, 2], 2: [0, 1, 2], 3: [0, 1, 2], 4: [0, 1, 2]}\n",
      "[[0, 1, 2], [0, 1, 2], [0, 1, 2], [0, 1, 2], [0, 1, 2]]\n"
     ]
    },
    {
     "data": {
      "text/plain": [
       "TensorShape([5, 3, 5])"
      ]
     },
     "execution_count": 197,
     "metadata": {},
     "output_type": "execute_result"
    }
   ],
   "source": [
    "# your input must have a same shape\n",
    "result = embedding_layer(tf.constant([[1, 2, 3], [4, 5, 6]]))\n",
    "result.shape\n",
    "# Test\n",
    "d = {}\n",
    "for i in range(5):\n",
    "    d[i] = [j for j in range(0, 3)]\n",
    "print(d)\n",
    "l = [d[i] for i in range(5)]\n",
    "print(l)\n",
    "result = embedding_layer(tf.constant(l))\n",
    "result.shape"
   ]
  },
  {
   "cell_type": "code",
   "execution_count": 198,
   "id": "2b120309",
   "metadata": {},
   "outputs": [
    {
     "data": {
      "text/plain": [
       "TensorShape([1000, 5])"
      ]
     },
     "execution_count": 198,
     "metadata": {},
     "output_type": "execute_result"
    }
   ],
   "source": [
    "result = embedding_layer(tf.constant([i for i in range(1000)]))\n",
    "result.shape"
   ]
  },
  {
   "cell_type": "code",
   "execution_count": 199,
   "id": "966413b2",
   "metadata": {},
   "outputs": [
    {
     "name": "stdout",
     "output_type": "stream",
     "text": [
      "CPU times: user 47.4 ms, sys: 31.4 ms, total: 78.7 ms\n",
      "Wall time: 139 ms\n"
     ]
    }
   ],
   "source": [
    "%%time\n",
    "# https://www.tensorflow.org/datasets/catalog/imdb_reviews\n",
    "(train_data, test_data), info = tfds.load(\n",
    "    'imdb_reviews/plain_text',\n",
    "    split=(tfds.Split.TRAIN, tfds.Split.TEST),\n",
    "    as_supervised=True,\n",
    "    with_info=True\n",
    ")\n",
    "# help(tfds.load)\n",
    "# help(tfds.Split)"
   ]
  },
  {
   "cell_type": "code",
   "execution_count": 200,
   "id": "6ef36669",
   "metadata": {},
   "outputs": [
    {
     "name": "stdout",
     "output_type": "stream",
     "text": [
      "b\"This was an absolutely terrible movie. Don't be lured in by Christopher Walken or Michael Ironside. Both are great actors, but this must simply be their worst role in history. Even their great acting could not redeem this movie's ridiculous storyline. This movie is an early nineties US propaganda piece. The most pathetic scenes were those when the Columbian rebels were making their cases for revolutions. Maria Conchita Alonso appeared phony, and her pseudo-love affair with Walken was nothing but a pathetic emotional plug in a movie that was devoid of any real meaning. I am disappointed that there are movies like this, ruining actor's like Christopher Walken's good name. I could barely sit through it.\"\n",
      "tf.Tensor(0, shape=(), dtype=int64)\n"
     ]
    },
    {
     "name": "stderr",
     "output_type": "stream",
     "text": [
      "2025-07-07 18:56:49.745618: W tensorflow/core/kernels/data/cache_dataset_ops.cc:916] The calling iterator did not fully read the dataset being cached. In order to avoid unexpected truncation of the dataset, the partially cached contents of the dataset  will be discarded. This can happen if you have an input pipeline similar to `dataset.cache().take(k).repeat()`. You should use `dataset.take(k).cache().repeat()` instead.\n"
     ]
    }
   ],
   "source": [
    "# print(info)\n",
    "for text, label in train_data.take(1):\n",
    "    print(text.numpy())\n",
    "    print(label)"
   ]
  },
  {
   "cell_type": "code",
   "execution_count": 201,
   "id": "572cec6f",
   "metadata": {},
   "outputs": [
    {
     "data": {
      "text/plain": [
       "(TensorSpec(shape=(), dtype=tf.string, name=None),\n",
       " TensorSpec(shape=(), dtype=tf.int64, name=None))"
      ]
     },
     "execution_count": 201,
     "metadata": {},
     "output_type": "execute_result"
    }
   ],
   "source": [
    "type(train_data)\n",
    "train_data.element_spec"
   ]
  },
  {
   "cell_type": "code",
   "execution_count": 202,
   "id": "b8454f90",
   "metadata": {},
   "outputs": [],
   "source": [
    "train_sentences = []\n",
    "train_labels = []\n",
    "test_sentences = []\n",
    "test_labels = []\n",
    "\n",
    "for sentence, label in train_data:\n",
    "    train_sentences.append(sentence.numpy().decode('utf-8'))\n",
    "    train_labels.append(label.numpy())\n",
    "\n",
    "for sentence, label in test_data:\n",
    "    test_sentences.append(sentence.numpy().decode('utf-8'))\n",
    "    test_labels.append(label.numpy())\n",
    "\n",
    "train_labels = np.array(train_labels)\n",
    "test_labels = np.array(test_labels)"
   ]
  },
  {
   "cell_type": "code",
   "execution_count": 203,
   "id": "18e1f43e",
   "metadata": {},
   "outputs": [],
   "source": [
    "vocab_size = 10000\n",
    "embedding_dim = 16\n",
    "max_length = 120\n",
    "trunc_type = 'post'\n",
    "padding_type = 'post'\n",
    "oov_token = \"<OOV>\"\n",
    "\n",
    "tokenizer = keras.preprocessing.text.Tokenizer(num_words=vocab_size, oov_token=oov_token)\n",
    "tokenizer.fit_on_texts(train_sentences)\n",
    "\n",
    "train_sequences = tokenizer.texts_to_sequences(train_sentences)\n",
    "train_padded = keras.preprocessing.sequence.pad_sequences(train_sequences,\n",
    "                                                          maxlen=max_length,\n",
    "                                                          padding=padding_type,\n",
    "                                                          truncating=trunc_type)\n",
    "\n",
    "test_sequences = tokenizer.texts_to_sequences(test_sentences)\n",
    "test_padded = keras.preprocessing.sequence.pad_sequences(test_sequences,\n",
    "                                                         maxlen=max_length,\n",
    "                                                         padding=padding_type,\n",
    "                                                         truncating=trunc_type)\n"
   ]
  },
  {
   "cell_type": "code",
   "execution_count": 204,
   "id": "d06508b1",
   "metadata": {},
   "outputs": [
    {
     "name": "stdout",
     "output_type": "stream",
     "text": [
      "Epoch 1/6\n",
      "\u001b[1m782/782\u001b[0m \u001b[32m━━━━━━━━━━━━━━━━━━━━\u001b[0m\u001b[37m\u001b[0m \u001b[1m1s\u001b[0m 924us/step - accuracy: 0.6474 - loss: 0.6606 - val_accuracy: 0.7815 - val_loss: 0.5344\n",
      "Epoch 2/6\n",
      "\u001b[1m782/782\u001b[0m \u001b[32m━━━━━━━━━━━━━━━━━━━━\u001b[0m\u001b[37m\u001b[0m \u001b[1m1s\u001b[0m 835us/step - accuracy: 0.8051 - loss: 0.4851 - val_accuracy: 0.8117 - val_loss: 0.4377\n",
      "Epoch 3/6\n",
      "\u001b[1m782/782\u001b[0m \u001b[32m━━━━━━━━━━━━━━━━━━━━\u001b[0m\u001b[37m\u001b[0m \u001b[1m1s\u001b[0m 845us/step - accuracy: 0.8395 - loss: 0.3913 - val_accuracy: 0.8216 - val_loss: 0.3999\n",
      "Epoch 4/6\n",
      "\u001b[1m782/782\u001b[0m \u001b[32m━━━━━━━━━━━━━━━━━━━━\u001b[0m\u001b[37m\u001b[0m \u001b[1m1s\u001b[0m 847us/step - accuracy: 0.8687 - loss: 0.3312 - val_accuracy: 0.8309 - val_loss: 0.3789\n",
      "Epoch 5/6\n",
      "\u001b[1m782/782\u001b[0m \u001b[32m━━━━━━━━━━━━━━━━━━━━\u001b[0m\u001b[37m\u001b[0m \u001b[1m1s\u001b[0m 848us/step - accuracy: 0.8807 - loss: 0.2985 - val_accuracy: 0.8336 - val_loss: 0.3724\n",
      "Epoch 6/6\n",
      "\u001b[1m782/782\u001b[0m \u001b[32m━━━━━━━━━━━━━━━━━━━━\u001b[0m\u001b[37m\u001b[0m \u001b[1m1s\u001b[0m 916us/step - accuracy: 0.8910 - loss: 0.2765 - val_accuracy: 0.8348 - val_loss: 0.3695\n"
     ]
    }
   ],
   "source": [
    "model = keras.Sequential([\n",
    "    layers.Embedding(vocab_size, embedding_dim, input_length=max_length),\n",
    "    layers.GlobalAveragePooling1D(),\n",
    "    layers.Dense(1, activation='sigmoid')\n",
    "])\n",
    "\n",
    "model.compile(loss='binary_crossentropy',\n",
    "              optimizer='adam',\n",
    "              metrics=['accuracy'])\n",
    "\n",
    "history = model.fit(train_padded,\n",
    "                    train_labels,\n",
    "                    epochs=6,\n",
    "                    validation_data=(test_padded, test_labels))\n"
   ]
  },
  {
   "cell_type": "code",
   "execution_count": 205,
   "id": "4d1cbd31",
   "metadata": {},
   "outputs": [
    {
     "data": {
      "image/png": "[encoded data removed]",
      "text/plain": [
       "<Figure size 1200x600 with 1 Axes>"
      ]
     },
     "metadata": {},
     "output_type": "display_data"
    },
    {
     "data": {
      "image/png": "[encoded data removed]",
      "text/plain": [
       "<Figure size 1200x600 with 1 Axes>"
      ]
     },
     "metadata": {},
     "output_type": "display_data"
    }
   ],
   "source": [
    "acc = history.history['accuracy']\n",
    "val_acc = history.history['val_accuracy']\n",
    "loss = history.history['loss']\n",
    "val_loss = history.history['val_loss']\n",
    "epochs = range(1, len(acc) + 1)\n",
    "\n",
    "plt.figure(figsize=(12, 6))\n",
    "plt.plot(epochs, loss, 'bo', label='Training loss')\n",
    "plt.plot(epochs, val_loss, 'b', label='Validation loss')\n",
    "plt.title('Training and Validation Loss')\n",
    "plt.xlabel('Epochs')\n",
    "plt.ylabel('Loss')\n",
    "plt.legend()\n",
    "plt.show()\n",
    "\n",
    "plt.figure(figsize=(12, 6))\n",
    "plt.plot(epochs, acc, 'bo', label='Training acc')\n",
    "plt.plot(epochs, val_acc, 'b', label='Validation acc')\n",
    "plt.title('Training and Validation Accuracy')\n",
    "plt.xlabel('Epochs')\n",
    "plt.ylabel('Accuracy')\n",
    "plt.legend()\n",
    "plt.ylim([0.5, 1])\n",
    "plt.show()\n"
   ]
  },
  {
   "cell_type": "code",
   "execution_count": 206,
   "id": "341d4b61",
   "metadata": {},
   "outputs": [],
   "source": [
    "embedding_layer = model.layers[0]\n",
    "weights = embedding_layer.get_weights()[0]  # shape: (vocab_size, embedding_dim)\n",
    "\n",
    "reverse_word_index = {idx: word for word, idx in tokenizer.word_index.items() if idx < vocab_size}\n",
    "\n",
    "out_v = io.open('vecs.tsv', 'w', encoding='utf-8')\n",
    "out_m = io.open('meta.tsv', 'w', encoding='utf-8')\n",
    "\n",
    "for index in range(1, vocab_size):\n",
    "    word = reverse_word_index.get(index, \"<PAD>\")\n",
    "    vec = weights[index]\n",
    "    out_m.write(word + \"\\n\")\n",
    "    out_v.write('\\t'.join([str(x) for x in vec]) + \"\\n\")\n",
    "\n",
    "out_v.close()\n",
    "out_m.close()\n"
   ]
  },
  {
   "cell_type": "markdown",
   "id": "85b51c96",
   "metadata": {},
   "source": [
    "https://projector.tensorflow.org/"
   ]
  },
  {
   "cell_type": "code",
   "execution_count": 208,
   "id": "6c3f4f14",
   "metadata": {},
   "outputs": [],
   "source": [
    "sentence_1 = 'This movie was great!'\n",
    "sentence_2 = 'I hate this movie'\n",
    "reviews = [\n",
    "    'I hate this movie',\n",
    "    'That was such a great movie',\n",
    "    'I liked it so much that I watched it again',\n",
    "    'It belongs to garbage'\n",
    "]\n",
    "test = tokenizer.texts_to_sequences(reviews)\n",
    "test_padded = keras.preprocessing.sequence.pad_sequences(\n",
    "    test,\n",
    "    maxlen=max_length,\n",
    "    padding=padding_type,\n",
    "    truncating=trunc_type\n",
    ")\n"
   ]
  },
  {
   "cell_type": "code",
   "execution_count": 209,
   "id": "e1ecfa62",
   "metadata": {},
   "outputs": [
    {
     "name": "stdout",
     "output_type": "stream",
     "text": [
      "\u001b[1m1/1\u001b[0m \u001b[32m━━━━━━━━━━━━━━━━━━━━\u001b[0m\u001b[37m\u001b[0m \u001b[1m0s\u001b[0m 18ms/step\n",
      "\n",
      "Review: I hate this movie\n",
      "Score: 0.4514 -> Negative\n",
      "\n",
      "Review: That was such a great movie\n",
      "Score: 0.5590 -> Positive\n",
      "\n",
      "Review: I liked it so much that I watched it again\n",
      "Score: 0.5961 -> Positive\n",
      "\n",
      "Review: It belongs to garbage\n",
      "Score: 0.3595 -> Negative\n",
      "(4, 1)\n"
     ]
    }
   ],
   "source": [
    "prediction = model.predict(test_padded)\n",
    "for review, score in zip(reviews, prediction):\n",
    "    print(f\"\\nReview: {review}\")\n",
    "    print(f\"Score: {score[0]:.4f} -> {'Positive' if score[0] > 0.5 else 'Negative'}\")\n",
    "print(prediction.shape)"
   ]
  }
 ],
 "metadata": {
  "kernelspec": {
   "display_name": "Python 3 (ipykernel)",
   "language": "python",
   "name": "python3"
  },
  "language_info": {
   "codemirror_mode": {
    "name": "ipython",
    "version": 3
   },
   "file_extension": ".py",
   "mimetype": "text/x-python",
   "name": "python",
   "nbconvert_exporter": "python",
   "pygments_lexer": "ipython3",
   "version": "3.12.0"
  }
 },
 "nbformat": 4,
 "nbformat_minor": 5
}
